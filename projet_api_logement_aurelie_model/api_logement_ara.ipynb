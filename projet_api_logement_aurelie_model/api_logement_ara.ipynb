{
 "cells": [
  {
   "cell_type": "markdown",
   "id": "4694e48a",
   "metadata": {},
   "source": [
    "<div style=\"display: flex; background-color: RGB(255,114,0);\" >\n",
    "\n",
    "# PROJET - Logement </h1>\n",
    "</div>"
   ]
  },
  {
   "cell_type": "markdown",
   "metadata": {},
   "source": [
    "> Construire un modèle de régression à l'aide de l'API/ Mlflow\n",
    "\n",
    "Pour mettre en œuvre des réseaux de neurones en utilisant Keras API. Il s'agit d'une API de haut niveau magnifiquement conçue et simple pour la construction, former, évaluer et faire fonctionner des réseaux de neurones.\n",
    "\n",
    "Pour s'initier à l'API,  vous  allez entraîner un modèle de régression afin de prédire le prix médian des maisons de la Californie. Ensuite, vous déploierez ce modèle à travers une API REST en utilisant la librairie  MLflow."
   ]
  },
  {
   "cell_type": "markdown",
   "metadata": {},
   "source": [
    "<div style=\"display: flex; background-color: blue;\" >\n",
    "\n",
    "# 1.Contexte du projet\n",
    "</div>\n",
    "\n",
    "C’est un projet sur le logement en Californie dans le but de prédire le prix médian des maisons de la Californie. Pour plus de simplicité, vous allez utiliser la fonction fetch_california_housing() de Scikit-Learn pour charger les données. Cet ensemble de données est plus simple que celui que nous avons utilisé auparavant, puisqu'il ne contient que des caractéristiques numériques (il n'y a pas la variable ocean_proximity), et il y a pas des valeurs manquantes . (Le choix du modèle n'est pas très important pour ce projet, mais essayez d’aborder le sujet à l'aide d’un modèle ensembliste)\n",
    "\n",
    "- Entraîner un modèle de régression afin de prédire le prix médian des maisons de la Californie.\n",
    "- Ensuite, appliquer ce modèle à travers une API REST en utilisant la librairie Mlflow.\n",
    "- Finalement, tester vos prédictions avec une interface Streamlit."
   ]
  },
  {
   "cell_type": "markdown",
   "metadata": {},
   "source": [
    "## Ressources :\n",
    "- https://openclassrooms.com/fr/courses/4525361-realisez-un-dashboard-avec-vos-donnees/5774786-apprehendez-le-fonctionnement-dun-serveur-web\n",
    "- https://openclassrooms.com/fr/courses/6573181-adoptez-les-api-rest-pour-vos-projets-web\n",
    "- https://practicalprogramming.fr/api-rest/\n",
    "- https://www.mlflow.org/docs/latest/index.html\n",
    "- https://docs.microsoft.com/fr-fr/azure/databricks/applications/mlflow/\n",
    "- https://streamlit.io/\n",
    "- https://docs.microsoft.com/fr-fr/azure/databricks/_static/notebooks/mlflow/mlflow-quick-start-deployment-azure.html"
   ]
  },
  {
   "cell_type": "markdown",
   "id": "f40e3a45",
   "metadata": {},
   "source": [
    "<div style=\"display: flex; background-color: green;\" >\n",
    "\n",
    "## 1.2. Util\n",
    "</div>\n",
    "\n",
    "Créer une API Python :\n",
    "- ``Django`` : Django est basé sur Python. Il est utilisé par de grands noms comme Google, YouTube et Instagram. Le framework REST de Django est facile à utiliser lorsque vous construisez vos API REST avec Django. Il demande un effort d’apprentissage aux débutants, mais possède d’excellentes fonctionnalités intégrées, comme l’authentification et la messagerie. - https://openclassrooms.com/fr/courses/7192416-mettez-en-place-une-api-avec-django-rest-framework\n",
    "- ``Flask`` : Flask utilise Python pour le web et le développement des API REST. C’est un framework minimaliste, facile d’apprentissage et d’utilisation. Flask comprend moins de fonctionnalités intégrées que Django, mais permet aux développeurs d’avoir davantage de choix dans les outils additionnels qu’ils utilisent."
   ]
  },
  {
   "cell_type": "code",
   "execution_count": 1,
   "metadata": {},
   "outputs": [],
   "source": [
    "from os import getcwd\n",
    "import pandas as pd\n",
    "import numpy as np\n",
    "import seaborn as sns\n",
    "import matplotlib.pyplot as plt\n",
    "import missingno as msno\n",
    "from api_logement_function import *\n",
    "from sklearn.datasets import fetch_california_housing\n",
    "import datetime"
   ]
  },
  {
   "cell_type": "markdown",
   "id": "09c3528d",
   "metadata": {},
   "source": [
    "<div style=\"display: flex; background-color: blue;\" >\n",
    "\n",
    "# 2.Chargement des données\n",
    "</div>"
   ]
  },
  {
   "cell_type": "code",
   "execution_count": 2,
   "metadata": {},
   "outputs": [
    {
     "name": "stdout",
     "output_type": "stream",
     "text": [
      "Current execution path : c:\\Users\\User\\WORK\\workspace-ia\\PROJETS\\projet_api_logement\\\n"
     ]
    }
   ],
   "source": [
    "# ---------------------------------------------------------------------------------------------\n",
    "#                               MAIN\n",
    "# ---------------------------------------------------------------------------------------------\n",
    "verbose = False\n",
    "\n",
    "# Récupère le répertoire du programme\n",
    "file_path = getcwd() + \"\\\\\"\n",
    "\n",
    "print(f\"Current execution path : {file_path}\")"
   ]
  },
  {
   "cell_type": "code",
   "execution_count": 3,
   "metadata": {},
   "outputs": [
    {
     "data": {
      "text/html": [
       "<div>\n",
       "<style scoped>\n",
       "    .dataframe tbody tr th:only-of-type {\n",
       "        vertical-align: middle;\n",
       "    }\n",
       "\n",
       "    .dataframe tbody tr th {\n",
       "        vertical-align: top;\n",
       "    }\n",
       "\n",
       "    .dataframe thead th {\n",
       "        text-align: right;\n",
       "    }\n",
       "</style>\n",
       "<table border=\"1\" class=\"dataframe\">\n",
       "  <thead>\n",
       "    <tr style=\"text-align: right;\">\n",
       "      <th></th>\n",
       "      <th>MedInc</th>\n",
       "      <th>HouseAge</th>\n",
       "      <th>AveRooms</th>\n",
       "      <th>AveBedrms</th>\n",
       "      <th>Population</th>\n",
       "      <th>AveOccup</th>\n",
       "      <th>Latitude</th>\n",
       "      <th>Longitude</th>\n",
       "    </tr>\n",
       "  </thead>\n",
       "  <tbody>\n",
       "    <tr>\n",
       "      <th>0</th>\n",
       "      <td>8.3252</td>\n",
       "      <td>41.0</td>\n",
       "      <td>6.984127</td>\n",
       "      <td>1.023810</td>\n",
       "      <td>322.0</td>\n",
       "      <td>2.555556</td>\n",
       "      <td>37.88</td>\n",
       "      <td>-122.23</td>\n",
       "    </tr>\n",
       "    <tr>\n",
       "      <th>1</th>\n",
       "      <td>8.3014</td>\n",
       "      <td>21.0</td>\n",
       "      <td>6.238137</td>\n",
       "      <td>0.971880</td>\n",
       "      <td>2401.0</td>\n",
       "      <td>2.109842</td>\n",
       "      <td>37.86</td>\n",
       "      <td>-122.22</td>\n",
       "    </tr>\n",
       "    <tr>\n",
       "      <th>2</th>\n",
       "      <td>7.2574</td>\n",
       "      <td>52.0</td>\n",
       "      <td>8.288136</td>\n",
       "      <td>1.073446</td>\n",
       "      <td>496.0</td>\n",
       "      <td>2.802260</td>\n",
       "      <td>37.85</td>\n",
       "      <td>-122.24</td>\n",
       "    </tr>\n",
       "    <tr>\n",
       "      <th>3</th>\n",
       "      <td>5.6431</td>\n",
       "      <td>52.0</td>\n",
       "      <td>5.817352</td>\n",
       "      <td>1.073059</td>\n",
       "      <td>558.0</td>\n",
       "      <td>2.547945</td>\n",
       "      <td>37.85</td>\n",
       "      <td>-122.25</td>\n",
       "    </tr>\n",
       "    <tr>\n",
       "      <th>4</th>\n",
       "      <td>3.8462</td>\n",
       "      <td>52.0</td>\n",
       "      <td>6.281853</td>\n",
       "      <td>1.081081</td>\n",
       "      <td>565.0</td>\n",
       "      <td>2.181467</td>\n",
       "      <td>37.85</td>\n",
       "      <td>-122.25</td>\n",
       "    </tr>\n",
       "    <tr>\n",
       "      <th>...</th>\n",
       "      <td>...</td>\n",
       "      <td>...</td>\n",
       "      <td>...</td>\n",
       "      <td>...</td>\n",
       "      <td>...</td>\n",
       "      <td>...</td>\n",
       "      <td>...</td>\n",
       "      <td>...</td>\n",
       "    </tr>\n",
       "    <tr>\n",
       "      <th>20635</th>\n",
       "      <td>1.5603</td>\n",
       "      <td>25.0</td>\n",
       "      <td>5.045455</td>\n",
       "      <td>1.133333</td>\n",
       "      <td>845.0</td>\n",
       "      <td>2.560606</td>\n",
       "      <td>39.48</td>\n",
       "      <td>-121.09</td>\n",
       "    </tr>\n",
       "    <tr>\n",
       "      <th>20636</th>\n",
       "      <td>2.5568</td>\n",
       "      <td>18.0</td>\n",
       "      <td>6.114035</td>\n",
       "      <td>1.315789</td>\n",
       "      <td>356.0</td>\n",
       "      <td>3.122807</td>\n",
       "      <td>39.49</td>\n",
       "      <td>-121.21</td>\n",
       "    </tr>\n",
       "    <tr>\n",
       "      <th>20637</th>\n",
       "      <td>1.7000</td>\n",
       "      <td>17.0</td>\n",
       "      <td>5.205543</td>\n",
       "      <td>1.120092</td>\n",
       "      <td>1007.0</td>\n",
       "      <td>2.325635</td>\n",
       "      <td>39.43</td>\n",
       "      <td>-121.22</td>\n",
       "    </tr>\n",
       "    <tr>\n",
       "      <th>20638</th>\n",
       "      <td>1.8672</td>\n",
       "      <td>18.0</td>\n",
       "      <td>5.329513</td>\n",
       "      <td>1.171920</td>\n",
       "      <td>741.0</td>\n",
       "      <td>2.123209</td>\n",
       "      <td>39.43</td>\n",
       "      <td>-121.32</td>\n",
       "    </tr>\n",
       "    <tr>\n",
       "      <th>20639</th>\n",
       "      <td>2.3886</td>\n",
       "      <td>16.0</td>\n",
       "      <td>5.254717</td>\n",
       "      <td>1.162264</td>\n",
       "      <td>1387.0</td>\n",
       "      <td>2.616981</td>\n",
       "      <td>39.37</td>\n",
       "      <td>-121.24</td>\n",
       "    </tr>\n",
       "  </tbody>\n",
       "</table>\n",
       "<p>20640 rows × 8 columns</p>\n",
       "</div>"
      ],
      "text/plain": [
       "       MedInc  HouseAge  AveRooms  AveBedrms  Population  AveOccup  Latitude  \\\n",
       "0      8.3252      41.0  6.984127   1.023810       322.0  2.555556     37.88   \n",
       "1      8.3014      21.0  6.238137   0.971880      2401.0  2.109842     37.86   \n",
       "2      7.2574      52.0  8.288136   1.073446       496.0  2.802260     37.85   \n",
       "3      5.6431      52.0  5.817352   1.073059       558.0  2.547945     37.85   \n",
       "4      3.8462      52.0  6.281853   1.081081       565.0  2.181467     37.85   \n",
       "...       ...       ...       ...        ...         ...       ...       ...   \n",
       "20635  1.5603      25.0  5.045455   1.133333       845.0  2.560606     39.48   \n",
       "20636  2.5568      18.0  6.114035   1.315789       356.0  3.122807     39.49   \n",
       "20637  1.7000      17.0  5.205543   1.120092      1007.0  2.325635     39.43   \n",
       "20638  1.8672      18.0  5.329513   1.171920       741.0  2.123209     39.43   \n",
       "20639  2.3886      16.0  5.254717   1.162264      1387.0  2.616981     39.37   \n",
       "\n",
       "       Longitude  \n",
       "0        -122.23  \n",
       "1        -122.22  \n",
       "2        -122.24  \n",
       "3        -122.25  \n",
       "4        -122.25  \n",
       "...          ...  \n",
       "20635    -121.09  \n",
       "20636    -121.21  \n",
       "20637    -121.22  \n",
       "20638    -121.32  \n",
       "20639    -121.24  \n",
       "\n",
       "[20640 rows x 8 columns]"
      ]
     },
     "execution_count": 3,
     "metadata": {},
     "output_type": "execute_result"
    }
   ],
   "source": [
    "california_housing = fetch_california_housing(as_frame=True)\n",
    "df_california_housing = california_housing.data\n",
    "target = california_housing.target\n",
    "df_california_housing"
   ]
  },
  {
   "cell_type": "code",
   "execution_count": 4,
   "metadata": {},
   "outputs": [
    {
     "data": {
      "text/plain": [
       "0        4.526\n",
       "1        3.585\n",
       "2        3.521\n",
       "3        3.413\n",
       "4        3.422\n",
       "         ...  \n",
       "20635    0.781\n",
       "20636    0.771\n",
       "20637    0.923\n",
       "20638    0.847\n",
       "20639    0.894\n",
       "Name: MedHouseVal, Length: 20640, dtype: float64"
      ]
     },
     "execution_count": 4,
     "metadata": {},
     "output_type": "execute_result"
    }
   ],
   "source": [
    "target"
   ]
  },
  {
   "cell_type": "code",
   "execution_count": 5,
   "metadata": {},
   "outputs": [
    {
     "data": {
      "text/plain": [
       "0"
      ]
     },
     "execution_count": 5,
     "metadata": {},
     "output_type": "execute_result"
    }
   ],
   "source": [
    "target.isna().sum()"
   ]
  },
  {
   "cell_type": "code",
   "execution_count": 6,
   "metadata": {},
   "outputs": [
    {
     "data": {
      "image/png": "[encoded data removed]",
      "text/plain": [
       "<Figure size 1296x360 with 1 Axes>"
      ]
     },
     "metadata": {},
     "output_type": "display_data"
    }
   ],
   "source": [
    "figure, ax = color_graph_background(1,1)\n",
    "sns.heatmap(df_california_housing.isnull(), yticklabels=False,cbar=False, cmap='viridis')\n",
    "plt.xticks(rotation=45, ha=\"right\", fontsize=10)\n",
    "plt.title(\"NA dans la DF\")\n",
    "figure.set_size_inches(18, 5, forward=True)\n",
    "plt.show()"
   ]
  },
  {
   "cell_type": "markdown",
   "id": "f40e3a45",
   "metadata": {},
   "source": [
    "<div style=\"display: flex; background-color: green;\" >\n",
    "\n",
    "## 2.1. Modeling\n",
    "</div>\n"
   ]
  },
  {
   "cell_type": "markdown",
   "id": "dc0c802f",
   "metadata": {},
   "source": [
    "<div style=\"display: flex; background-color: indigo;\" >\n",
    "\n",
    "#### Split train / test\n",
    "</div>"
   ]
  },
  {
   "cell_type": "code",
   "execution_count": 7,
   "metadata": {},
   "outputs": [],
   "source": [
    "from sklearn.model_selection import train_test_split"
   ]
  },
  {
   "cell_type": "code",
   "execution_count": 8,
   "metadata": {},
   "outputs": [],
   "source": [
    "random_state=0"
   ]
  },
  {
   "cell_type": "code",
   "execution_count": 9,
   "metadata": {},
   "outputs": [],
   "source": [
    "# split 80/20 train-test\n",
    "X_train, X_test, y_train, y_test = train_test_split(df_california_housing,\n",
    "                                                    target,\n",
    "                                                    test_size=0.2,\n",
    "                                                    random_state=random_state)"
   ]
  },
  {
   "cell_type": "markdown",
   "id": "dc0c802f",
   "metadata": {},
   "source": [
    "<div style=\"display: flex; background-color: indigo;\" >\n",
    "\n",
    "#### Train the model\n",
    "</div>"
   ]
  },
  {
   "cell_type": "code",
   "execution_count": 10,
   "metadata": {},
   "outputs": [],
   "source": [
    "models_list = { }"
   ]
  },
  {
   "cell_type": "code",
   "execution_count": 18,
   "metadata": {},
   "outputs": [],
   "source": [
    "grid_params = { 'randomforestregressor__n_estimators' : [91],\n",
    "                        'randomforestregressor__max_features' : ['auto', 'sqrt']\n",
    "                        }\n",
    "grid_pipeline = make_pipeline( RandomForestRegressor(random_state=random_state))\n",
    "grid = GridSearchCV(grid_pipeline,param_grid=grid_params, cv=4)\n",
    "models_list[\"Forest\"] = grid"
   ]
  },
  {
   "cell_type": "code",
   "execution_count": 19,
   "metadata": {},
   "outputs": [
    {
     "data": {
      "text/html": [
       "<div>\n",
       "<style scoped>\n",
       "    .dataframe tbody tr th:only-of-type {\n",
       "        vertical-align: middle;\n",
       "    }\n",
       "\n",
       "    .dataframe tbody tr th {\n",
       "        vertical-align: top;\n",
       "    }\n",
       "\n",
       "    .dataframe thead th {\n",
       "        text-align: right;\n",
       "    }\n",
       "</style>\n",
       "<table border=\"1\" class=\"dataframe\">\n",
       "  <thead>\n",
       "    <tr style=\"text-align: right;\">\n",
       "      <th></th>\n",
       "      <th>Class</th>\n",
       "      <th>Model</th>\n",
       "      <th>R2</th>\n",
       "      <th>fit time</th>\n",
       "      <th>fit seconde</th>\n",
       "      <th>metrics time</th>\n",
       "      <th>metrics seconde</th>\n",
       "      <th>predict time</th>\n",
       "      <th>predict seconde</th>\n",
       "      <th>MAE</th>\n",
       "      <th>MSE</th>\n",
       "      <th>RMSE</th>\n",
       "      <th>Mediane AE</th>\n",
       "    </tr>\n",
       "    <tr>\n",
       "      <th>Modeli</th>\n",
       "      <th></th>\n",
       "      <th></th>\n",
       "      <th></th>\n",
       "      <th></th>\n",
       "      <th></th>\n",
       "      <th></th>\n",
       "      <th></th>\n",
       "      <th></th>\n",
       "      <th></th>\n",
       "      <th></th>\n",
       "      <th></th>\n",
       "      <th></th>\n",
       "      <th></th>\n",
       "    </tr>\n",
       "  </thead>\n",
       "  <tbody>\n",
       "    <tr>\n",
       "      <th>Forest</th>\n",
       "      <td></td>\n",
       "      <td>Forest</td>\n",
       "      <td>0.817</td>\n",
       "      <td>00:00:27</td>\n",
       "      <td>27.233</td>\n",
       "      <td>00:00:00</td>\n",
       "      <td>0.079</td>\n",
       "      <td>00:00:00</td>\n",
       "      <td>0.079</td>\n",
       "      <td>0.331</td>\n",
       "      <td>0.239</td>\n",
       "      <td>0.489</td>\n",
       "      <td>0.224</td>\n",
       "    </tr>\n",
       "  </tbody>\n",
       "</table>\n",
       "</div>"
      ],
      "text/plain": [
       "       Class   Model     R2  fit time  fit seconde metrics time  \\\n",
       "Modeli                                                            \n",
       "Forest        Forest  0.817  00:00:27       27.233     00:00:00   \n",
       "\n",
       "        metrics seconde predict time  predict seconde    MAE    MSE   RMSE  \\\n",
       "Modeli                                                                       \n",
       "Forest            0.079     00:00:00            0.079  0.331  0.239  0.489   \n",
       "\n",
       "        Mediane AE  \n",
       "Modeli              \n",
       "Forest       0.224  "
      ]
     },
     "execution_count": 19,
     "metadata": {},
     "output_type": "execute_result"
    }
   ],
   "source": [
    "modeldic, scores = fit_and_test_models(models_list, X_train, y_train, X_test, y_test, y_column_name=None, scores=None, verbose=verbose, metrics=1)\n",
    "\n",
    "score_all_class_df = pd.DataFrame(scores).set_index(\"Modeli\")\n",
    "score_all_class_df = score_all_class_df.round(decimals=3)\n",
    "score_all_class_df"
   ]
  },
  {
   "cell_type": "code",
   "execution_count": 20,
   "metadata": {},
   "outputs": [
    {
     "name": "stdout",
     "output_type": "stream",
     "text": [
      "Forest : {'randomforestregressor__max_features': 'sqrt', 'randomforestregressor__n_estimators': 91}\n"
     ]
    }
   ],
   "source": [
    "print(\"Forest :\",modeldic['Forest'].best_params_)"
   ]
  },
  {
   "cell_type": "markdown",
   "id": "dc0c802f",
   "metadata": {},
   "source": [
    "<div style=\"display: flex; background-color: indigo;\" >\n",
    "\n",
    "#### Sauvegarde du modèle entrainé\n",
    "</div>"
   ]
  },
  {
   "cell_type": "code",
   "execution_count": 21,
   "metadata": {},
   "outputs": [],
   "source": [
    "from joblib import dump, load\n",
    "from datetime import datetime"
   ]
  },
  {
   "cell_type": "code",
   "execution_count": 25,
   "metadata": {},
   "outputs": [],
   "source": [
    "def save_model(model_to_save, file_path, model_save_file_name):\n",
    "    # Sauvegarde du meilleur modele\n",
    "    now = datetime.now() # current date and time\n",
    "    date_time = now.strftime(\"%Y-%m-%d-%H_%M_%S\")\n",
    "    model_save_file_name = model_save_file_name + date_time + '.joblib'\n",
    "    # Attention, il faudra mettre à jour les colonnes correspondantes dans le premier if en cas de modification du model\n",
    "    dump(model_to_save, file_path+model_save_file_name)\n",
    "    return file_path+model_save_file_name"
   ]
  },
  {
   "cell_type": "code",
   "execution_count": 23,
   "metadata": {},
   "outputs": [],
   "source": [
    "from os import path\n",
    "def load_model(model_save_path):\n",
    "    if path.exists(model_save_path) and path.isfile(model_save_path):\n",
    "        # Chargement du modèle pré-entrainer\n",
    "        return load(model_save_path)\n",
    "        "
   ]
  },
  {
   "cell_type": "code",
   "execution_count": 32,
   "metadata": {},
   "outputs": [
    {
     "name": "stdout",
     "output_type": "stream",
     "text": [
      "<class 'sklearn.pipeline.Pipeline'>\n"
     ]
    },
    {
     "data": {
      "text/plain": [
       "'c:\\\\Users\\\\User\\\\WORK\\\\workspace-ia\\\\PROJETS\\\\projet_api_logement\\\\Forest_2022-05-05-10_29_03.joblib'"
      ]
     },
     "execution_count": 32,
     "metadata": {},
     "output_type": "execute_result"
    }
   ],
   "source": [
    "model_to_save = modeldic.get('Forest', None)\n",
    "\n",
    "# On sauvegarde uniquement le modèle le plus performant et non le GridSearchCV\n",
    "if isinstance( model_to_save, GridSearchCV):\n",
    "    model_to_save = model_to_save.best_estimator_\n",
    "    print(type(model_to_save))\n",
    "\n",
    "model_path = save_model(model_to_save, file_path, model_save_file_name='Forest_')\n",
    "model_path"
   ]
  },
  {
   "cell_type": "markdown",
   "id": "dc0c802f",
   "metadata": {},
   "source": [
    "<div style=\"display: flex; background-color: indigo;\" >\n",
    "\n",
    "#### Chargement du modèle entrainé\n",
    "</div>"
   ]
  },
  {
   "cell_type": "code",
   "execution_count": 33,
   "metadata": {},
   "outputs": [
    {
     "name": "stdout",
     "output_type": "stream",
     "text": [
      "<class 'sklearn.pipeline.Pipeline'>\n"
     ]
    },
    {
     "data": {
      "text/plain": [
       "Pipeline(steps=[('randomforestregressor',\n",
       "                 RandomForestRegressor(max_features='sqrt', n_estimators=91,\n",
       "                                       random_state=0))])"
      ]
     },
     "execution_count": 33,
     "metadata": {},
     "output_type": "execute_result"
    }
   ],
   "source": [
    "# model_path = file_path + \"ema_lannuontimes_saved_model_2022-03-29-09_22_16.joblib\"\n",
    "\n",
    "# Chargement du modèle si non chargé\n",
    "saved_model_titi = load_model(model_path)\n",
    "print(type(saved_model_titi))\n",
    "saved_model_titi"
   ]
  },
  {
   "cell_type": "markdown",
   "id": "f40e3a45",
   "metadata": {},
   "source": [
    "<div style=\"display: flex; background-color: green;\" >\n",
    "\n",
    "## 2.1. Titre 2\n",
    "</div>\n"
   ]
  },
  {
   "cell_type": "markdown",
   "id": "dc0c802f",
   "metadata": {},
   "source": [
    "<div style=\"display: flex; background-color: indigo;\" >\n",
    "\n",
    "#### Titre 3\n",
    "</div>"
   ]
  },
  {
   "cell_type": "markdown",
   "metadata": {},
   "source": [
    "<div style=\"display: flex; background-color: deeppink;\" >\n",
    "\n",
    "##### Titre4\n",
    "</div>"
   ]
  },
  {
   "cell_type": "markdown",
   "id": "09c3528d",
   "metadata": {},
   "source": [
    "<div style=\"display: flex; background-color: blue;\" >\n",
    "\n",
    "# 2.Titre 1\n",
    "</div>"
   ]
  },
  {
   "cell_type": "markdown",
   "id": "f40e3a45",
   "metadata": {},
   "source": [
    "<div style=\"display: flex; background-color: green;\" >\n",
    "\n",
    "## 2.1. Titre 2\n",
    "</div>\n"
   ]
  },
  {
   "cell_type": "markdown",
   "id": "dc0c802f",
   "metadata": {},
   "source": [
    "<div style=\"display: flex; background-color: indigo;\" >\n",
    "\n",
    "#### Titre 3\n",
    "</div>"
   ]
  },
  {
   "cell_type": "markdown",
   "metadata": {},
   "source": [
    "<div style=\"display: flex; background-color: deeppink;\" >\n",
    "\n",
    "##### Titre4\n",
    "</div>"
   ]
  },
  {
   "cell_type": "markdown",
   "metadata": {},
   "source": [
    "<div style=\"display: flex; background-color: coral;\" >\n",
    "\n",
    "##### Titre 5\n",
    "</div>"
   ]
  },
  {
   "cell_type": "markdown",
   "id": "09c3528d",
   "metadata": {},
   "source": [
    "<div style=\"display: flex; background-color: blue;\" >\n",
    "\n",
    "# ANNEXE\n",
    "</div>"
   ]
  }
 ],
 "metadata": {
  "interpreter": {
   "hash": "ac59ebe37160ed0dfa835113d9b8498d9f09ceb179beaac4002f036b9467c963"
  },
  "kernelspec": {
   "display_name": "Python 3.9.10 64-bit",
   "language": "python",
   "name": "python3"
  },
  "language_info": {
   "codemirror_mode": {
    "name": "ipython",
    "version": 3
   },
   "file_extension": ".py",
   "mimetype": "text/x-python",
   "name": "python",
   "nbconvert_exporter": "python",
   "pygments_lexer": "ipython3",
   "version": "3.9.10"
  },
  "orig_nbformat": 4
 },
 "nbformat": 4,
 "nbformat_minor": 2
}
