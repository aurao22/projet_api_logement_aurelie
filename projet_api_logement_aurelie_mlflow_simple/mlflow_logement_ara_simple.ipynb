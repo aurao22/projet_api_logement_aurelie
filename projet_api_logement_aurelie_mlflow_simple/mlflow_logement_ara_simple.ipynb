{
 "cells": [
  {
   "cell_type": "markdown",
   "id": "4694e48a",
   "metadata": {},
   "source": [
    "<div style=\"display: flex; background-color: RGB(255,114,0);\" >\n",
    "\n",
    "# PROJET - Logement </h1>\n",
    "</div>"
   ]
  },
  {
   "cell_type": "markdown",
   "metadata": {},
   "source": [
    "> Construire un modèle de régression à l'aide de l'API/ Mlflow\n",
    "\n",
    "Pour mettre en œuvre des réseaux de neurones en utilisant Keras API. Il s'agit d'une API de haut niveau magnifiquement conçue et simple pour la construction, former, évaluer et faire fonctionner des réseaux de neurones.\n",
    "\n",
    "Pour s'initier à l'API,  vous  allez entraîner un modèle de régression afin de prédire le prix médian des maisons de la Californie. Ensuite, vous déploierez ce modèle à travers une API REST en utilisant la librairie  MLflow."
   ]
  },
  {
   "cell_type": "markdown",
   "metadata": {},
   "source": [
    "<div style=\"display: flex; background-color: blue;\" >\n",
    "\n",
    "# 1.Contexte du projet\n",
    "</div>\n",
    "\n",
    "C’est un projet sur le logement en Californie dans le but de prédire le prix médian des maisons de la Californie. Pour plus de simplicité, vous allez utiliser la fonction fetch_california_housing() de Scikit-Learn pour charger les données. Cet ensemble de données est plus simple que celui que nous avons utilisé auparavant, puisqu'il ne contient que des caractéristiques numériques (il n'y a pas la variable ocean_proximity), et il y a pas des valeurs manquantes . (Le choix du modèle n'est pas très important pour ce projet, mais essayez d’aborder le sujet à l'aide d’un modèle ensembliste)\n",
    "\n",
    "- Entraîner un modèle de régression afin de prédire le prix médian des maisons de la Californie.\n",
    "- Ensuite, appliquer ce modèle à travers une API REST en utilisant la librairie Mlflow.\n",
    "- Finalement, tester vos prédictions avec une interface Streamlit."
   ]
  },
  {
   "cell_type": "markdown",
   "metadata": {},
   "source": [
    "## Ressources :\n",
    "- https://openclassrooms.com/fr/courses/4525361-realisez-un-dashboard-avec-vos-donnees/5774786-apprehendez-le-fonctionnement-dun-serveur-web\n",
    "- https://openclassrooms.com/fr/courses/6573181-adoptez-les-api-rest-pour-vos-projets-web\n",
    "- https://practicalprogramming.fr/api-rest/\n",
    "- https://www.mlflow.org/docs/latest/index.html\n",
    "- https://docs.microsoft.com/fr-fr/azure/databricks/applications/mlflow/\n",
    "- https://streamlit.io/\n",
    "- https://docs.microsoft.com/fr-fr/azure/databricks/_static/notebooks/mlflow/mlflow-quick-start-deployment-azure.html"
   ]
  },
  {
   "cell_type": "markdown",
   "id": "f40e3a45",
   "metadata": {},
   "source": [
    "<div style=\"display: flex; background-color: green;\" >\n",
    "\n",
    "## 1.2. Util\n",
    "</div>\n",
    "\n",
    "Créer une API Python :\n",
    "- ``Django`` : Django est basé sur Python. Il est utilisé par de grands noms comme Google, YouTube et Instagram. Le framework REST de Django est facile à utiliser lorsque vous construisez vos API REST avec Django. Il demande un effort d’apprentissage aux débutants, mais possède d’excellentes fonctionnalités intégrées, comme l’authentification et la messagerie. - https://openclassrooms.com/fr/courses/7192416-mettez-en-place-une-api-avec-django-rest-framework\n",
    "- ``Flask`` : Flask utilise Python pour le web et le développement des API REST. C’est un framework minimaliste, facile d’apprentissage et d’utilisation. Flask comprend moins de fonctionnalités intégrées que Django, mais permet aux développeurs d’avoir davantage de choix dans les outils additionnels qu’ils utilisent."
   ]
  },
  {
   "cell_type": "code",
   "execution_count": 1,
   "metadata": {},
   "outputs": [],
   "source": [
    "from os import getcwd\n",
    "import pandas as pd\n",
    "from sklearn.datasets import fetch_california_housing\n",
    "from sklearn import preprocessing\n",
    "from sklearn.model_selection import GridSearchCV\n",
    "from sklearn.ensemble import HistGradientBoostingRegressor\n",
    "from sklearn.pipeline import Pipeline\n",
    "import datetime"
   ]
  },
  {
   "cell_type": "code",
   "execution_count": 2,
   "metadata": {},
   "outputs": [],
   "source": [
    "verbose = 0"
   ]
  },
  {
   "cell_type": "markdown",
   "id": "09c3528d",
   "metadata": {},
   "source": [
    "<div style=\"display: flex; background-color: blue;\" >\n",
    "\n",
    "# 2.Chargement des données\n",
    "</div>"
   ]
  },
  {
   "cell_type": "code",
   "execution_count": 3,
   "metadata": {},
   "outputs": [],
   "source": [
    "X, y = fetch_california_housing(return_X_y=True)"
   ]
  },
  {
   "cell_type": "code",
   "execution_count": 4,
   "metadata": {},
   "outputs": [
    {
     "name": "stdout",
     "output_type": "stream",
     "text": [
      "(20640, 8) (20640,)\n"
     ]
    }
   ],
   "source": [
    "print(X.shape, y.shape)"
   ]
  },
  {
   "cell_type": "markdown",
   "id": "dc0c802f",
   "metadata": {},
   "source": [
    "<div style=\"display: flex; background-color: indigo;\" >\n",
    "\n",
    "#### Split train / test\n",
    "</div>"
   ]
  },
  {
   "cell_type": "code",
   "execution_count": 5,
   "metadata": {},
   "outputs": [],
   "source": [
    "from sklearn.model_selection import train_test_split"
   ]
  },
  {
   "cell_type": "code",
   "execution_count": 6,
   "metadata": {},
   "outputs": [],
   "source": [
    "random_state=0"
   ]
  },
  {
   "cell_type": "code",
   "execution_count": 7,
   "metadata": {},
   "outputs": [],
   "source": [
    "# split 80/20 train-test\n",
    "X_train, X_test, y_train, y_test = train_test_split(X,\n",
    "                                                    y,\n",
    "                                                    test_size=0.2,\n",
    "                                                    random_state=random_state)"
   ]
  },
  {
   "cell_type": "markdown",
   "id": "dc0c802f",
   "metadata": {},
   "source": [
    "<div style=\"display: flex; background-color: indigo;\" >\n",
    "\n",
    "#### Standardisation\n",
    "</div>"
   ]
  },
  {
   "cell_type": "code",
   "execution_count": 8,
   "metadata": {},
   "outputs": [],
   "source": [
    "scaler = preprocessing.StandardScaler()\n",
    "X_train_scaled = scaler.fit_transform(X_train)\n",
    "X_test_scaled = scaler.transform(X_test)"
   ]
  },
  {
   "cell_type": "markdown",
   "id": "dc0c802f",
   "metadata": {},
   "source": [
    "<div style=\"display: flex; background-color: indigo;\" >\n",
    "\n",
    "#### Recherche du meilleur modèle\n",
    "</div>"
   ]
  },
  {
   "cell_type": "code",
   "execution_count": 9,
   "metadata": {},
   "outputs": [],
   "source": [
    "models_list = { }"
   ]
  },
  {
   "cell_type": "code",
   "execution_count": 10,
   "metadata": {},
   "outputs": [],
   "source": [
    "grid_params = { \n",
    "                'learning_rate' : [1e-1, 2e-1, 3e-1],\n",
    "                'max_depth':[2,4,5],\n",
    "                'min_samples_leaf':[30,31,32],\n",
    "                'max_iter':[100,150],\n",
    "                'verbose':[verbose], \n",
    "                'random_state':[random_state]\n",
    "                }\n",
    "\n",
    "model = HistGradientBoostingRegressor()\n",
    "grid = GridSearchCV(model,param_grid=grid_params, cv=4)\n",
    "models_list[\"HistGradientBoostingRegressor\"] = grid"
   ]
  },
  {
   "cell_type": "code",
   "execution_count": 11,
   "metadata": {},
   "outputs": [],
   "source": [
    "from api_logement_function import fit_and_test_models"
   ]
  },
  {
   "cell_type": "code",
   "execution_count": 12,
   "metadata": {},
   "outputs": [
    {
     "data": {
      "text/html": [
       "<div>\n",
       "<style scoped>\n",
       "    .dataframe tbody tr th:only-of-type {\n",
       "        vertical-align: middle;\n",
       "    }\n",
       "\n",
       "    .dataframe tbody tr th {\n",
       "        vertical-align: top;\n",
       "    }\n",
       "\n",
       "    .dataframe thead th {\n",
       "        text-align: right;\n",
       "    }\n",
       "</style>\n",
       "<table border=\"1\" class=\"dataframe\">\n",
       "  <thead>\n",
       "    <tr style=\"text-align: right;\">\n",
       "      <th></th>\n",
       "      <th>Class</th>\n",
       "      <th>Model</th>\n",
       "      <th>R2</th>\n",
       "      <th>fit time</th>\n",
       "      <th>fit seconde</th>\n",
       "      <th>metrics time</th>\n",
       "      <th>metrics seconde</th>\n",
       "      <th>predict time</th>\n",
       "      <th>predict seconde</th>\n",
       "      <th>MAE</th>\n",
       "      <th>MSE</th>\n",
       "      <th>RMSE</th>\n",
       "      <th>Mediane AE</th>\n",
       "    </tr>\n",
       "    <tr>\n",
       "      <th>Modeli</th>\n",
       "      <th></th>\n",
       "      <th></th>\n",
       "      <th></th>\n",
       "      <th></th>\n",
       "      <th></th>\n",
       "      <th></th>\n",
       "      <th></th>\n",
       "      <th></th>\n",
       "      <th></th>\n",
       "      <th></th>\n",
       "      <th></th>\n",
       "      <th></th>\n",
       "      <th></th>\n",
       "    </tr>\n",
       "  </thead>\n",
       "  <tbody>\n",
       "    <tr>\n",
       "      <th>HistGradientBoostingRegressor</th>\n",
       "      <td></td>\n",
       "      <td>HistGradientBoostingRegressor</td>\n",
       "      <td>0.843</td>\n",
       "      <td>00:01:54</td>\n",
       "      <td>114.066</td>\n",
       "      <td>00:00:00</td>\n",
       "      <td>0.025</td>\n",
       "      <td>00:00:00</td>\n",
       "      <td>0.025</td>\n",
       "      <td>0.306</td>\n",
       "      <td>0.205</td>\n",
       "      <td>0.453</td>\n",
       "      <td>0.205</td>\n",
       "    </tr>\n",
       "  </tbody>\n",
       "</table>\n",
       "</div>"
      ],
      "text/plain": [
       "                              Class                          Model     R2  \\\n",
       "Modeli                                                                      \n",
       "HistGradientBoostingRegressor        HistGradientBoostingRegressor  0.843   \n",
       "\n",
       "                               fit time  fit seconde metrics time  \\\n",
       "Modeli                                                              \n",
       "HistGradientBoostingRegressor  00:01:54      114.066     00:00:00   \n",
       "\n",
       "                               metrics seconde predict time  predict seconde  \\\n",
       "Modeli                                                                         \n",
       "HistGradientBoostingRegressor            0.025     00:00:00            0.025   \n",
       "\n",
       "                                 MAE    MSE   RMSE  Mediane AE  \n",
       "Modeli                                                          \n",
       "HistGradientBoostingRegressor  0.306  0.205  0.453       0.205  "
      ]
     },
     "execution_count": 12,
     "metadata": {},
     "output_type": "execute_result"
    }
   ],
   "source": [
    "modeldic, scores = fit_and_test_models(models_list, X_train_scaled, y_train, X_test_scaled, y_test, y_column_name=None, scores=None, verbose=verbose, metrics=1)\n",
    "\n",
    "score_all_class_df = pd.DataFrame(scores).set_index(\"Modeli\")\n",
    "score_all_class_df = score_all_class_df.round(decimals=3)\n",
    "score_all_class_df"
   ]
  },
  {
   "cell_type": "code",
   "execution_count": 13,
   "metadata": {},
   "outputs": [
    {
     "name": "stdout",
     "output_type": "stream",
     "text": [
      "0.8291532722535846\n",
      "{'learning_rate': 0.2, 'max_depth': 5, 'max_iter': 150, 'min_samples_leaf': 32, 'random_state': 0, 'verbose': 0}\n"
     ]
    }
   ],
   "source": [
    "grid = modeldic[\"HistGradientBoostingRegressor\"]\n",
    "print(grid.best_score_)\n",
    "print(grid.best_params_)"
   ]
  },
  {
   "cell_type": "markdown",
   "id": "dc0c802f",
   "metadata": {},
   "source": [
    "<div style=\"display: flex; background-color: indigo;\" >\n",
    "\n",
    "#### Création du pipeline avec le meilleur modèle\n",
    "</div>"
   ]
  },
  {
   "cell_type": "code",
   "execution_count": 14,
   "metadata": {},
   "outputs": [],
   "source": [
    "pipeline = Pipeline([\n",
    "        ('scaler', preprocessing.StandardScaler()),\n",
    "        ('mlfow_model', HistGradientBoostingRegressor(**grid.best_params_))\n",
    "        ])"
   ]
  },
  {
   "cell_type": "code",
   "execution_count": 15,
   "metadata": {},
   "outputs": [
    {
     "data": {
      "text/plain": [
       "Pipeline(steps=[('scaler', StandardScaler()),\n",
       "                ('mlfow_model',\n",
       "                 HistGradientBoostingRegressor(learning_rate=0.2, max_depth=5,\n",
       "                                               max_iter=150,\n",
       "                                               min_samples_leaf=32,\n",
       "                                               random_state=0))])"
      ]
     },
     "execution_count": 15,
     "metadata": {},
     "output_type": "execute_result"
    }
   ],
   "source": [
    "pipeline.fit(X_train, y_train)"
   ]
  },
  {
   "cell_type": "code",
   "execution_count": 16,
   "metadata": {},
   "outputs": [
    {
     "data": {
      "text/plain": [
       "0.8429720051432265"
      ]
     },
     "execution_count": 16,
     "metadata": {},
     "output_type": "execute_result"
    }
   ],
   "source": [
    "pipeline.score(X_test, y_test)"
   ]
  },
  {
   "cell_type": "markdown",
   "id": "dc0c802f",
   "metadata": {},
   "source": [
    "<div style=\"display: flex; background-color: indigo;\" >\n",
    "\n",
    "#### Sauvegarde du modèle entrainé\n",
    "</div>"
   ]
  },
  {
   "cell_type": "code",
   "execution_count": 17,
   "metadata": {},
   "outputs": [],
   "source": [
    "from joblib import dump, load\n",
    "from datetime import datetime"
   ]
  },
  {
   "cell_type": "code",
   "execution_count": 18,
   "metadata": {},
   "outputs": [],
   "source": [
    "def save_model(model_to_save, file_path, model_save_file_name):\n",
    "    # Sauvegarde du meilleur modele\n",
    "    now = datetime.now() # current date and time\n",
    "    date_time = now.strftime(\"%Y-%m-%d-%H_%M_%S\")\n",
    "    model_save_file_name = model_save_file_name + date_time + '.joblib'\n",
    "    # Attention, il faudra mettre à jour les colonnes correspondantes dans le premier if en cas de modification du model\n",
    "    dump(model_to_save, file_path+model_save_file_name)\n",
    "    return file_path+model_save_file_name"
   ]
  },
  {
   "cell_type": "code",
   "execution_count": 19,
   "metadata": {},
   "outputs": [
    {
     "data": {
      "text/plain": [
       "'c:\\\\Users\\\\User\\\\WORK\\\\workspace-ia\\\\PROJETS\\\\projet_api_logement_aurelie\\\\projet_api_logement_aurelie_mlflow_simple\\\\HistGradientBoostingRegressor_2022-05-19-10_14_23.joblib'"
      ]
     },
     "execution_count": 19,
     "metadata": {},
     "output_type": "execute_result"
    }
   ],
   "source": [
    "model_path = save_model(pipeline, getcwd()+\"\\\\\", model_save_file_name='HistGradientBoostingRegressor_')\n",
    "model_path"
   ]
  },
  {
   "cell_type": "markdown",
   "id": "dc0c802f",
   "metadata": {},
   "source": [
    "<div style=\"display: flex; background-color: indigo;\" >\n",
    "\n",
    "#### Création de la signature\n",
    "</div>"
   ]
  },
  {
   "cell_type": "code",
   "execution_count": 20,
   "metadata": {},
   "outputs": [],
   "source": [
    "from mlflow.models.signature import infer_signature"
   ]
  },
  {
   "cell_type": "code",
   "execution_count": 21,
   "metadata": {},
   "outputs": [],
   "source": [
    "signature = infer_signature(X_train, y_train)"
   ]
  },
  {
   "cell_type": "markdown",
   "id": "dc0c802f",
   "metadata": {},
   "source": [
    "<div style=\"display: flex; background-color: indigo;\" >\n",
    "\n",
    "#### Environnement\n",
    "</div>"
   ]
  },
  {
   "cell_type": "code",
   "execution_count": 22,
   "metadata": {},
   "outputs": [],
   "source": [
    "from sys import version_info"
   ]
  },
  {
   "cell_type": "code",
   "execution_count": 23,
   "metadata": {},
   "outputs": [
    {
     "data": {
      "text/plain": [
       "'3.9.10'"
      ]
     },
     "execution_count": 23,
     "metadata": {},
     "output_type": "execute_result"
    }
   ],
   "source": [
    "PYTHON_VERSION = \"{major}.{minor}.{micro}\".format(major=version_info.major,\n",
    "                                              minor=version_info.minor,\n",
    "                                              micro=version_info.micro)\n",
    "PYTHON_VERSION"
   ]
  },
  {
   "cell_type": "markdown",
   "id": "dc0c802f",
   "metadata": {},
   "source": [
    "<div style=\"display: flex; background-color: indigo;\" >\n",
    "\n",
    "#### Ajout du modèle dans ML Flow\n",
    "</div>"
   ]
  },
  {
   "cell_type": "code",
   "execution_count": 24,
   "metadata": {},
   "outputs": [],
   "source": [
    "import mlflow.sklearn"
   ]
  },
  {
   "cell_type": "code",
   "execution_count": 25,
   "metadata": {},
   "outputs": [],
   "source": [
    "nom_model = 'mlfow_model'"
   ]
  },
  {
   "cell_type": "code",
   "execution_count": 26,
   "metadata": {},
   "outputs": [
    {
     "name": "stderr",
     "output_type": "stream",
     "text": [
      "C:\\Program Files\\Python39\\lib\\site-packages\\_distutils_hack\\__init__.py:30: UserWarning: Setuptools is replacing distutils.\n",
      "  warnings.warn(\"Setuptools is replacing distutils.\")\n"
     ]
    }
   ],
   "source": [
    "mlflow.sklearn.save_model(pipeline, nom_model, signature=signature)"
   ]
  },
  {
   "cell_type": "markdown",
   "metadata": {},
   "source": [
    "Commande à lancer dans un terminal"
   ]
  },
  {
   "cell_type": "code",
   "execution_count": 29,
   "metadata": {},
   "outputs": [
    {
     "name": "stdout",
     "output_type": "stream",
     "text": [
      "mlflow models serve -m mlfow_model/\n",
      "mlflow models serve -m mlfow_model/ --no-conda\n",
      "mlflow models serve -m mlfow_model/ --env-manager=local\n"
     ]
    }
   ],
   "source": [
    "print(f\"mlflow models serve -m {nom_model}/\")\n",
    "print(f\"mlflow models serve -m {nom_model}/ --no-conda\")\n",
    "print(f\"mlflow models serve -m {nom_model}/ --env-manager=local\")"
   ]
  }
 ],
 "metadata": {
  "interpreter": {
   "hash": "ac59ebe37160ed0dfa835113d9b8498d9f09ceb179beaac4002f036b9467c963"
  },
  "kernelspec": {
   "display_name": "Python 3.9.10 64-bit",
   "language": "python",
   "name": "python3"
  },
  "language_info": {
   "codemirror_mode": {
    "name": "ipython",
    "version": 3
   },
   "file_extension": ".py",
   "mimetype": "text/x-python",
   "name": "python",
   "nbconvert_exporter": "python",
   "pygments_lexer": "ipython3",
   "version": "3.9.10"
  },
  "orig_nbformat": 4
 },
 "nbformat": 4,
 "nbformat_minor": 2
}
